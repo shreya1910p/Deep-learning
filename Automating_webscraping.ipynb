{
  "nbformat": 4,
  "nbformat_minor": 0,
  "metadata": {
    "colab": {
      "name": "Automating webscraping.ipynb",
      "provenance": []
    },
    "kernelspec": {
      "name": "python3",
      "display_name": "Python 3"
    },
    "language_info": {
      "name": "python"
    }
  },
  "cells": [
    {
      "cell_type": "code",
      "execution_count": null,
      "metadata": {
        "colab": {
          "base_uri": "https://localhost:8080/"
        },
        "id": "CEpudhkhbCQo",
        "outputId": "0cf3032c-7521-4918-9bd5-1e89312aaca3"
      },
      "outputs": [
        {
          "output_type": "stream",
          "name": "stdout",
          "text": [
            "Requirement already satisfied: autoscraper in /usr/local/lib/python3.7/dist-packages (1.1.12)\n",
            "Requirement already satisfied: bs4 in /usr/local/lib/python3.7/dist-packages (from autoscraper) (0.0.1)\n",
            "Requirement already satisfied: lxml in /usr/local/lib/python3.7/dist-packages (from autoscraper) (4.2.6)\n",
            "Requirement already satisfied: requests in /usr/local/lib/python3.7/dist-packages (from autoscraper) (2.23.0)\n",
            "Requirement already satisfied: beautifulsoup4 in /usr/local/lib/python3.7/dist-packages (from bs4->autoscraper) (4.6.3)\n",
            "Requirement already satisfied: idna<3,>=2.5 in /usr/local/lib/python3.7/dist-packages (from requests->autoscraper) (2.10)\n",
            "Requirement already satisfied: chardet<4,>=3.0.2 in /usr/local/lib/python3.7/dist-packages (from requests->autoscraper) (3.0.4)\n",
            "Requirement already satisfied: urllib3!=1.25.0,!=1.25.1,<1.26,>=1.21.1 in /usr/local/lib/python3.7/dist-packages (from requests->autoscraper) (1.24.3)\n",
            "Requirement already satisfied: certifi>=2017.4.17 in /usr/local/lib/python3.7/dist-packages (from requests->autoscraper) (2021.10.8)\n"
          ]
        }
      ],
      "source": [
        "!pip install autoscraper"
      ]
    },
    {
      "cell_type": "code",
      "source": [
        "from autoscraper import AutoScraper"
      ],
      "metadata": {
        "id": "HFXEpCI2bDhX"
      },
      "execution_count": null,
      "outputs": []
    },
    {
      "cell_type": "code",
      "source": [
        "amazon_url=\"https://www.amazon.in/s?k=ipad+air+5&crid=26PW0DK0KAYUN&sprefix=ipad+air+5%2Caps%2C197&ref=nb_sb_noss_1\"\n",
        "\n",
        "wanted_list=[\"54,900  \",\"2022 Apple iPad Air with Apple M1 Chip (10.9-inch/27.69 cm, Wi-Fi, 64GB) - Blue (5th Generation)\"]"
      ],
      "metadata": {
        "id": "QDd0NWiQbHV8"
      },
      "execution_count": null,
      "outputs": []
    },
    {
      "cell_type": "code",
      "source": [
        "scraper=AutoScraper()\n",
        "result=scraper.build(amazon_url,wanted_list)\n",
        "print(result)"
      ],
      "metadata": {
        "colab": {
          "base_uri": "https://localhost:8080/"
        },
        "id": "Xl_UVrl-bNjF",
        "outputId": "adc3812f-feb5-47bc-fe45-22a64351281f"
      },
      "execution_count": null,
      "outputs": [
        {
          "output_type": "stream",
          "name": "stdout",
          "text": [
            "['54,900', '68,900', '82,900', '42,900', '2022 Apple iPad Air with Apple M1 Chip (10.9-inch/27.69 cm, Wi-Fi, 64GB) - Blue (5th Generation)', '2022 Apple iPad Air with Apple M1 Chip (10.9-inch/27.69 cm, Wi-Fi, 64GB) - Purple (5th Generation)', '2022 Apple iPad Air with Apple M1 Chip (10.9-inch/27.69 cm, Wi-Fi, 64GB) - Space Gray (5th Generation)', '2022 Apple iPad Air with Apple M1 Chip (10.9-inch/27.69 cm, Wi-Fi, 256GB) - Purple (5th Generation)', '2022 Apple iPad Air with Apple M1 Chip (10.9-inch/27.69 cm, Wi-Fi, 256GB) - Blue (5th Generation)', '2022 Apple iPad Air with Apple M1 Chip (10.9-inch/27.69 cm, Wi-Fi, 64GB) - Pink (5th Generation)', '2022 Apple iPad Air with Apple M1 Chip (10.9-inch/27.69 cm, Wi-Fi + Cellular, 64GB) - Space Gray (5th Generation)', '2022 Apple iPad Air with Apple M1 Chip (10.9-inch/27.69 cm, Wi-Fi + Cellular, 256GB) - Space Gray (5th Generation)', '2022 Apple iPad Air with Apple M1 Chip (10.9-inch/27.69 cm, Wi-Fi, 256GB) - Starlight (5th Generation)', '2022 Apple iPad Air with Apple M1 Chip (10.9-inch/27.69 cm, Wi-Fi + Cellular, 256GB) - Starlight (5th Generation)', '2020 Apple iPad Air with A14 Bionic chip (10.9-inch/27.69 cm, Wi-Fi, 64GB) - Rose Gold (4th Generation)', '2022 Apple iPad Air with Apple M1 Chip (10.9-inch/27.69 cm, Wi-Fi + Cellular, 64GB) - Blue (5th Generation)', '2022 Apple iPad Air with Apple M1 Chip (10.9-inch/27.69 cm, Wi-Fi + Cellular, 64GB) - Purple (5th Generation)', '2022 Apple iPad Air with Apple M1 Chip (10.9-inch/27.69 cm, Wi-Fi, 256GB) - Space Gray (5th Generation)', '2022 Apple iPad Air with Apple M1 Chip (10.9-inch/27.69 cm, Wi-Fi + Cellular, 256GB) - Blue (5th Generation)', '2022 Apple iPad Air with Apple M1 Chip (10.9-inch/27.69 cm, Wi-Fi, 64GB) - Starlight (5th Generation)']\n"
          ]
        }
      ]
    },
    {
      "cell_type": "code",
      "source": [
        "scraper.get_result_similar(amazon_url,grouped=True)"
      ],
      "metadata": {
        "colab": {
          "base_uri": "https://localhost:8080/"
        },
        "id": "oCTaXXErb8y6",
        "outputId": "6f68ed41-15af-42e9-b1ac-9bdfc59aa46d"
      },
      "execution_count": null,
      "outputs": [
        {
          "output_type": "execute_result",
          "data": {
            "text/plain": [
              "{'rule_bj0x': ['54,900',\n",
              "  '54,900',\n",
              "  '54,900',\n",
              "  '68,900',\n",
              "  '68,900',\n",
              "  '54,900',\n",
              "  '68,900',\n",
              "  '82,900',\n",
              "  '68,900',\n",
              "  '82,900',\n",
              "  '42,900',\n",
              "  '68,900',\n",
              "  '68,900',\n",
              "  '68,900',\n",
              "  '82,900',\n",
              "  '54,900'],\n",
              " 'rule_mc38': ['54,900',\n",
              "  '54,900',\n",
              "  '54,900',\n",
              "  '68,900',\n",
              "  '68,900',\n",
              "  '54,900',\n",
              "  '68,900',\n",
              "  '82,900',\n",
              "  '68,900',\n",
              "  '82,900',\n",
              "  '42,900',\n",
              "  '68,900',\n",
              "  '68,900',\n",
              "  '68,900',\n",
              "  '82,900',\n",
              "  '54,900'],\n",
              " 'rule_mn0m': ['54,900',\n",
              "  '54,900',\n",
              "  '54,900',\n",
              "  '68,900',\n",
              "  '68,900',\n",
              "  '54,900',\n",
              "  '68,900',\n",
              "  '82,900',\n",
              "  '68,900',\n",
              "  '82,900',\n",
              "  '42,900',\n",
              "  '68,900',\n",
              "  '68,900',\n",
              "  '68,900',\n",
              "  '82,900',\n",
              "  '54,900'],\n",
              " 'rule_n3h3': ['2022 Apple iPad Air with Apple M1 Chip (10.9-inch/27.69 cm, Wi-Fi, 64GB) - Blue (5th Generation)',\n",
              "  '2022 Apple iPad Air with Apple M1 Chip (10.9-inch/27.69 cm, Wi-Fi, 64GB) - Purple (5th Generation)',\n",
              "  '2022 Apple iPad Air with Apple M1 Chip (10.9-inch/27.69 cm, Wi-Fi, 64GB) - Space Gray (5th Generation)',\n",
              "  '2022 Apple iPad Air with Apple M1 Chip (10.9-inch/27.69 cm, Wi-Fi, 256GB) - Purple (5th Generation)',\n",
              "  '2022 Apple iPad Air with Apple M1 Chip (10.9-inch/27.69 cm, Wi-Fi, 256GB) - Blue (5th Generation)',\n",
              "  '2022 Apple iPad Air with Apple M1 Chip (10.9-inch/27.69 cm, Wi-Fi, 64GB) - Pink (5th Generation)',\n",
              "  '2022 Apple iPad Air with Apple M1 Chip (10.9-inch/27.69 cm, Wi-Fi + Cellular, 64GB) - Space Gray (5th Generation)',\n",
              "  '2022 Apple iPad Air with Apple M1 Chip (10.9-inch/27.69 cm, Wi-Fi + Cellular, 256GB) - Space Gray (5th Generation)',\n",
              "  '2022 Apple iPad Air with Apple M1 Chip (10.9-inch/27.69 cm, Wi-Fi, 256GB) - Starlight (5th Generation)',\n",
              "  '2022 Apple iPad Air with Apple M1 Chip (10.9-inch/27.69 cm, Wi-Fi + Cellular, 256GB) - Starlight (5th Generation)',\n",
              "  '2020 Apple iPad Air with A14 Bionic chip (10.9-inch/27.69 cm, Wi-Fi, 64GB) - Rose Gold (4th Generation)',\n",
              "  '2022 Apple iPad Air with Apple M1 Chip (10.9-inch/27.69 cm, Wi-Fi + Cellular, 64GB) - Blue (5th Generation)',\n",
              "  '2022 Apple iPad Air with Apple M1 Chip (10.9-inch/27.69 cm, Wi-Fi + Cellular, 64GB) - Purple (5th Generation)',\n",
              "  '2022 Apple iPad Air with Apple M1 Chip (10.9-inch/27.69 cm, Wi-Fi, 256GB) - Space Gray (5th Generation)',\n",
              "  '2022 Apple iPad Air with Apple M1 Chip (10.9-inch/27.69 cm, Wi-Fi + Cellular, 256GB) - Blue (5th Generation)',\n",
              "  '2022 Apple iPad Air with Apple M1 Chip (10.9-inch/27.69 cm, Wi-Fi, 64GB) - Starlight (5th Generation)'],\n",
              " 'rule_n5yb': ['2022 Apple iPad Air with Apple M1 Chip (10.9-inch/27.69 cm, Wi-Fi, 64GB) - Blue (5th Generation)',\n",
              "  '2022 Apple iPad Air with Apple M1 Chip (10.9-inch/27.69 cm, Wi-Fi, 64GB) - Purple (5th Generation)',\n",
              "  '2022 Apple iPad Air with Apple M1 Chip (10.9-inch/27.69 cm, Wi-Fi, 64GB) - Space Gray (5th Generation)',\n",
              "  '2022 Apple iPad Air with Apple M1 Chip (10.9-inch/27.69 cm, Wi-Fi, 256GB) - Purple (5th Generation)',\n",
              "  '2022 Apple iPad Air with Apple M1 Chip (10.9-inch/27.69 cm, Wi-Fi, 256GB) - Blue (5th Generation)',\n",
              "  '2022 Apple iPad Air with Apple M1 Chip (10.9-inch/27.69 cm, Wi-Fi, 64GB) - Pink (5th Generation)',\n",
              "  '2022 Apple iPad Air with Apple M1 Chip (10.9-inch/27.69 cm, Wi-Fi + Cellular, 64GB) - Space Gray (5th Generation)',\n",
              "  '2022 Apple iPad Air with Apple M1 Chip (10.9-inch/27.69 cm, Wi-Fi + Cellular, 256GB) - Space Gray (5th Generation)',\n",
              "  '2022 Apple iPad Air with Apple M1 Chip (10.9-inch/27.69 cm, Wi-Fi, 256GB) - Starlight (5th Generation)',\n",
              "  '2022 Apple iPad Air with Apple M1 Chip (10.9-inch/27.69 cm, Wi-Fi + Cellular, 256GB) - Starlight (5th Generation)',\n",
              "  '2020 Apple iPad Air with A14 Bionic chip (10.9-inch/27.69 cm, Wi-Fi, 64GB) - Rose Gold (4th Generation)',\n",
              "  '2022 Apple iPad Air with Apple M1 Chip (10.9-inch/27.69 cm, Wi-Fi + Cellular, 64GB) - Blue (5th Generation)',\n",
              "  '2022 Apple iPad Air with Apple M1 Chip (10.9-inch/27.69 cm, Wi-Fi + Cellular, 64GB) - Purple (5th Generation)',\n",
              "  '2022 Apple iPad Air with Apple M1 Chip (10.9-inch/27.69 cm, Wi-Fi, 256GB) - Space Gray (5th Generation)',\n",
              "  '2022 Apple iPad Air with Apple M1 Chip (10.9-inch/27.69 cm, Wi-Fi + Cellular, 256GB) - Blue (5th Generation)',\n",
              "  '2022 Apple iPad Air with Apple M1 Chip (10.9-inch/27.69 cm, Wi-Fi, 64GB) - Starlight (5th Generation)'],\n",
              " 'rule_pf3p': ['54,900',\n",
              "  '54,900',\n",
              "  '54,900',\n",
              "  '68,900',\n",
              "  '68,900',\n",
              "  '54,900',\n",
              "  '68,900',\n",
              "  '82,900',\n",
              "  '68,900',\n",
              "  '82,900',\n",
              "  '42,900',\n",
              "  '68,900',\n",
              "  '68,900',\n",
              "  '68,900',\n",
              "  '82,900',\n",
              "  '54,900'],\n",
              " 'rule_se1w': ['54,900',\n",
              "  '54,900',\n",
              "  '54,900',\n",
              "  '68,900',\n",
              "  '68,900',\n",
              "  '54,900',\n",
              "  '68,900',\n",
              "  '82,900',\n",
              "  '68,900',\n",
              "  '82,900',\n",
              "  '42,900',\n",
              "  '68,900',\n",
              "  '68,900',\n",
              "  '68,900',\n",
              "  '82,900',\n",
              "  '54,900']}"
            ]
          },
          "metadata": {},
          "execution_count": 25
        }
      ]
    },
    {
      "cell_type": "code",
      "source": [
        "scraper.set_rule_aliases({'rule_n3h3':'Title','rule_bj0x':'Price'})\n",
        "scraper.keep_rules(['ule_n3h3','rule_bj0x'])\n",
        "scraper.save('amazon-search')\n"
      ],
      "metadata": {
        "id": "lF7ggRG3c4ga"
      },
      "execution_count": null,
      "outputs": []
    },
    {
      "cell_type": "code",
      "source": [
        "results=scraper.get_result_similar('https://www.amazon.in/s?k=redmi+note+8+pro&crid=2Z4FZTI4HYLKY&sprefix=redmi+note+8+pro%2Caps%2C213&ref=nb_sb_noss_1',group_by_alias=True)"
      ],
      "metadata": {
        "id": "qdm4u7wDdWJp"
      },
      "execution_count": null,
      "outputs": []
    },
    {
      "cell_type": "code",
      "source": [
        "results['Price']"
      ],
      "metadata": {
        "colab": {
          "base_uri": "https://localhost:8080/"
        },
        "id": "9KRgYRl8dfPZ",
        "outputId": "c9a6cfee-1874-49f0-8084-faddbe05a967"
      },
      "execution_count": null,
      "outputs": [
        {
          "output_type": "execute_result",
          "data": {
            "text/plain": [
              "['14,499',\n",
              " '16,999',\n",
              " '15,999',\n",
              " '16,999',\n",
              " '22,999',\n",
              " '18,999',\n",
              " '22,999',\n",
              " '20,999',\n",
              " '24,999',\n",
              " '20,999',\n",
              " '13,999',\n",
              " '14,499',\n",
              " '18,999',\n",
              " '24,999',\n",
              " '22,999',\n",
              " '16,999']"
            ]
          },
          "metadata": {},
          "execution_count": 29
        }
      ]
    },
    {
      "cell_type": "code",
      "source": [
        ""
      ],
      "metadata": {
        "id": "dOxNaPA2dgim"
      },
      "execution_count": null,
      "outputs": []
    }
  ]
}