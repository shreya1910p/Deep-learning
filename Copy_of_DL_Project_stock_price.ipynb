{
  "nbformat": 4,
  "nbformat_minor": 0,
  "metadata": {
    "colab": {
      "name": "Copy of DL Project_stock price.ipynb",
      "provenance": [],
      "collapsed_sections": []
    },
    "kernelspec": {
      "name": "python3",
      "display_name": "Python 3"
    },
    "language_info": {
      "name": "python"
    }
  },
  "cells": [
    {
      "cell_type": "markdown",
      "source": [
        "Installation and Setup"
      ],
      "metadata": {
        "id": "e2GPrXCR9F9h"
      }
    },
    {
      "cell_type": "code",
      "metadata": {
        "id": "h-Dzyd4dcbZR",
        "colab": {
          "base_uri": "https://localhost:8080/"
        },
        "outputId": "72b0b8c4-839c-4f37-c91f-d89749e720e5"
      },
      "source": [
        "# Installing TensorFlow\n",
        "! pip install -q tensorflow-gpu"
      ],
      "execution_count": null,
      "outputs": [
        {
          "output_type": "stream",
          "name": "stdout",
          "text": [
            "\u001b[K     |████████████████████████████████| 497.5 MB 24 kB/s \n",
            "\u001b[K     |████████████████████████████████| 462 kB 52.2 MB/s \n",
            "\u001b[?25h"
          ]
        }
      ]
    },
    {
      "cell_type": "code",
      "source": [
        "import tensorflow as tf"
      ],
      "metadata": {
        "id": "4sP_zSmX9Qhy"
      },
      "execution_count": null,
      "outputs": []
    },
    {
      "cell_type": "code",
      "source": [
        "print(tf.__version__)"
      ],
      "metadata": {
        "colab": {
          "base_uri": "https://localhost:8080/"
        },
        "id": "xt1eoCQ19Qka",
        "outputId": "f7606562-6d2f-40f3-950e-0e4f5ae63556"
      },
      "execution_count": null,
      "outputs": [
        {
          "output_type": "stream",
          "name": "stdout",
          "text": [
            "2.8.0\n"
          ]
        }
      ]
    },
    {
      "cell_type": "code",
      "metadata": {
        "id": "zsYFGI4pev5Z"
      },
      "source": [
        "import numpy as np\n",
        "import pandas as pd\n",
        "import matplotlib.pyplot as plt"
      ],
      "execution_count": null,
      "outputs": []
    },
    {
      "cell_type": "markdown",
      "source": [
        "Data Preprocessing"
      ],
      "metadata": {
        "id": "Jea22sAM9s6s"
      }
    },
    {
      "cell_type": "code",
      "execution_count": null,
      "metadata": {
        "id": "Ui9cLjMdn17_",
        "colab": {
          "base_uri": "https://localhost:8080/"
        },
        "outputId": "41cb4405-6a2c-4e63-9d54-6df0c7be3d33"
      },
      "outputs": [
        {
          "output_type": "stream",
          "name": "stdout",
          "text": [
            "Mounted at /content/drive\n"
          ]
        }
      ],
      "source": [
        "from google.colab import drive\n",
        "drive.mount('/content/drive')"
      ]
    },
    {
      "cell_type": "code",
      "metadata": {
        "id": "_X-7lQBxhcHF"
      },
      "source": [
        "training_data = pd.read_excel('/content/drive/MyDrive/Google stock price/DLproj_training.xlsx')"
      ],
      "execution_count": null,
      "outputs": []
    },
    {
      "cell_type": "code",
      "source": [
        "training_data.head()"
      ],
      "metadata": {
        "colab": {
          "base_uri": "https://localhost:8080/",
          "height": 206
        },
        "id": "Os6fJNF79Qul",
        "outputId": "a58adfda-1787-4c13-adfc-c119950a4775"
      },
      "execution_count": null,
      "outputs": [
        {
          "output_type": "execute_result",
          "data": {
            "text/plain": [
              "        Date        Open        High         Low       Close   Adj Close  \\\n",
              "0 2017-03-01  828.849976  836.255005  827.260010  835.239990  835.239990   \n",
              "1 2017-03-02  833.849976  834.510010  829.640015  830.630005  830.630005   \n",
              "2 2017-03-03  830.559998  831.359985  825.750977  829.080017  829.080017   \n",
              "3 2017-03-06  826.950012  828.880005  822.400024  827.780029  827.780029   \n",
              "4 2017-03-07  827.400024  833.409973  826.520020  831.909973  831.909973   \n",
              "\n",
              "    Volume  \n",
              "0  1496500  \n",
              "1   942500  \n",
              "2   896400  \n",
              "3  1109000  \n",
              "4  1037600  "
            ],
            "text/html": [
              "\n",
              "  <div id=\"df-19dee0d2-776b-460b-9674-052c1177487d\">\n",
              "    <div class=\"colab-df-container\">\n",
              "      <div>\n",
              "<style scoped>\n",
              "    .dataframe tbody tr th:only-of-type {\n",
              "        vertical-align: middle;\n",
              "    }\n",
              "\n",
              "    .dataframe tbody tr th {\n",
              "        vertical-align: top;\n",
              "    }\n",
              "\n",
              "    .dataframe thead th {\n",
              "        text-align: right;\n",
              "    }\n",
              "</style>\n",
              "<table border=\"1\" class=\"dataframe\">\n",
              "  <thead>\n",
              "    <tr style=\"text-align: right;\">\n",
              "      <th></th>\n",
              "      <th>Date</th>\n",
              "      <th>Open</th>\n",
              "      <th>High</th>\n",
              "      <th>Low</th>\n",
              "      <th>Close</th>\n",
              "      <th>Adj Close</th>\n",
              "      <th>Volume</th>\n",
              "    </tr>\n",
              "  </thead>\n",
              "  <tbody>\n",
              "    <tr>\n",
              "      <th>0</th>\n",
              "      <td>2017-03-01</td>\n",
              "      <td>828.849976</td>\n",
              "      <td>836.255005</td>\n",
              "      <td>827.260010</td>\n",
              "      <td>835.239990</td>\n",
              "      <td>835.239990</td>\n",
              "      <td>1496500</td>\n",
              "    </tr>\n",
              "    <tr>\n",
              "      <th>1</th>\n",
              "      <td>2017-03-02</td>\n",
              "      <td>833.849976</td>\n",
              "      <td>834.510010</td>\n",
              "      <td>829.640015</td>\n",
              "      <td>830.630005</td>\n",
              "      <td>830.630005</td>\n",
              "      <td>942500</td>\n",
              "    </tr>\n",
              "    <tr>\n",
              "      <th>2</th>\n",
              "      <td>2017-03-03</td>\n",
              "      <td>830.559998</td>\n",
              "      <td>831.359985</td>\n",
              "      <td>825.750977</td>\n",
              "      <td>829.080017</td>\n",
              "      <td>829.080017</td>\n",
              "      <td>896400</td>\n",
              "    </tr>\n",
              "    <tr>\n",
              "      <th>3</th>\n",
              "      <td>2017-03-06</td>\n",
              "      <td>826.950012</td>\n",
              "      <td>828.880005</td>\n",
              "      <td>822.400024</td>\n",
              "      <td>827.780029</td>\n",
              "      <td>827.780029</td>\n",
              "      <td>1109000</td>\n",
              "    </tr>\n",
              "    <tr>\n",
              "      <th>4</th>\n",
              "      <td>2017-03-07</td>\n",
              "      <td>827.400024</td>\n",
              "      <td>833.409973</td>\n",
              "      <td>826.520020</td>\n",
              "      <td>831.909973</td>\n",
              "      <td>831.909973</td>\n",
              "      <td>1037600</td>\n",
              "    </tr>\n",
              "  </tbody>\n",
              "</table>\n",
              "</div>\n",
              "      <button class=\"colab-df-convert\" onclick=\"convertToInteractive('df-19dee0d2-776b-460b-9674-052c1177487d')\"\n",
              "              title=\"Convert this dataframe to an interactive table.\"\n",
              "              style=\"display:none;\">\n",
              "        \n",
              "  <svg xmlns=\"http://www.w3.org/2000/svg\" height=\"24px\"viewBox=\"0 0 24 24\"\n",
              "       width=\"24px\">\n",
              "    <path d=\"M0 0h24v24H0V0z\" fill=\"none\"/>\n",
              "    <path d=\"M18.56 5.44l.94 2.06.94-2.06 2.06-.94-2.06-.94-.94-2.06-.94 2.06-2.06.94zm-11 1L8.5 8.5l.94-2.06 2.06-.94-2.06-.94L8.5 2.5l-.94 2.06-2.06.94zm10 10l.94 2.06.94-2.06 2.06-.94-2.06-.94-.94-2.06-.94 2.06-2.06.94z\"/><path d=\"M17.41 7.96l-1.37-1.37c-.4-.4-.92-.59-1.43-.59-.52 0-1.04.2-1.43.59L10.3 9.45l-7.72 7.72c-.78.78-.78 2.05 0 2.83L4 21.41c.39.39.9.59 1.41.59.51 0 1.02-.2 1.41-.59l7.78-7.78 2.81-2.81c.8-.78.8-2.07 0-2.86zM5.41 20L4 18.59l7.72-7.72 1.47 1.35L5.41 20z\"/>\n",
              "  </svg>\n",
              "      </button>\n",
              "      \n",
              "  <style>\n",
              "    .colab-df-container {\n",
              "      display:flex;\n",
              "      flex-wrap:wrap;\n",
              "      gap: 12px;\n",
              "    }\n",
              "\n",
              "    .colab-df-convert {\n",
              "      background-color: #E8F0FE;\n",
              "      border: none;\n",
              "      border-radius: 50%;\n",
              "      cursor: pointer;\n",
              "      display: none;\n",
              "      fill: #1967D2;\n",
              "      height: 32px;\n",
              "      padding: 0 0 0 0;\n",
              "      width: 32px;\n",
              "    }\n",
              "\n",
              "    .colab-df-convert:hover {\n",
              "      background-color: #E2EBFA;\n",
              "      box-shadow: 0px 1px 2px rgba(60, 64, 67, 0.3), 0px 1px 3px 1px rgba(60, 64, 67, 0.15);\n",
              "      fill: #174EA6;\n",
              "    }\n",
              "\n",
              "    [theme=dark] .colab-df-convert {\n",
              "      background-color: #3B4455;\n",
              "      fill: #D2E3FC;\n",
              "    }\n",
              "\n",
              "    [theme=dark] .colab-df-convert:hover {\n",
              "      background-color: #434B5C;\n",
              "      box-shadow: 0px 1px 3px 1px rgba(0, 0, 0, 0.15);\n",
              "      filter: drop-shadow(0px 1px 2px rgba(0, 0, 0, 0.3));\n",
              "      fill: #FFFFFF;\n",
              "    }\n",
              "  </style>\n",
              "\n",
              "      <script>\n",
              "        const buttonEl =\n",
              "          document.querySelector('#df-19dee0d2-776b-460b-9674-052c1177487d button.colab-df-convert');\n",
              "        buttonEl.style.display =\n",
              "          google.colab.kernel.accessAllowed ? 'block' : 'none';\n",
              "\n",
              "        async function convertToInteractive(key) {\n",
              "          const element = document.querySelector('#df-19dee0d2-776b-460b-9674-052c1177487d');\n",
              "          const dataTable =\n",
              "            await google.colab.kernel.invokeFunction('convertToInteractive',\n",
              "                                                     [key], {});\n",
              "          if (!dataTable) return;\n",
              "\n",
              "          const docLinkHtml = 'Like what you see? Visit the ' +\n",
              "            '<a target=\"_blank\" href=https://colab.research.google.com/notebooks/data_table.ipynb>data table notebook</a>'\n",
              "            + ' to learn more about interactive tables.';\n",
              "          element.innerHTML = '';\n",
              "          dataTable['output_type'] = 'display_data';\n",
              "          await google.colab.output.renderOutput(dataTable, element);\n",
              "          const docLink = document.createElement('div');\n",
              "          docLink.innerHTML = docLinkHtml;\n",
              "          element.appendChild(docLink);\n",
              "        }\n",
              "      </script>\n",
              "    </div>\n",
              "  </div>\n",
              "  "
            ]
          },
          "metadata": {},
          "execution_count": 7
        }
      ]
    },
    {
      "cell_type": "code",
      "source": [
        "training_data.tail()"
      ],
      "metadata": {
        "colab": {
          "base_uri": "https://localhost:8080/",
          "height": 206
        },
        "id": "0qZI0vPp9Qw8",
        "outputId": "cc9ffa6d-24b2-4a3e-f453-aff8d9e86bb5"
      },
      "execution_count": null,
      "outputs": [
        {
          "output_type": "execute_result",
          "data": {
            "text/plain": [
              "           Date         Open         High          Low        Close  \\\n",
              "1276 2022-03-24  2785.449951  2827.929932  2760.788086  2826.239990   \n",
              "1277 2022-03-25  2835.080078  2839.189941  2793.989990  2830.429932   \n",
              "1278 2022-03-28  2813.689941  2839.530029  2796.562988  2839.000000   \n",
              "1279 2022-03-29  2863.209961  2883.250000  2849.679932  2865.000000   \n",
              "1280 2022-03-30  2857.399902  2869.610107  2843.360107  2852.889893   \n",
              "\n",
              "        Adj Close   Volume  \n",
              "1276  2826.239990  1027200  \n",
              "1277  2830.429932   963500  \n",
              "1278  2839.000000  1188700  \n",
              "1279  2865.000000  1433900  \n",
              "1280  2852.889893  1052300  "
            ],
            "text/html": [
              "\n",
              "  <div id=\"df-1ed0ddbc-6f81-416d-88b3-66afd53819e2\">\n",
              "    <div class=\"colab-df-container\">\n",
              "      <div>\n",
              "<style scoped>\n",
              "    .dataframe tbody tr th:only-of-type {\n",
              "        vertical-align: middle;\n",
              "    }\n",
              "\n",
              "    .dataframe tbody tr th {\n",
              "        vertical-align: top;\n",
              "    }\n",
              "\n",
              "    .dataframe thead th {\n",
              "        text-align: right;\n",
              "    }\n",
              "</style>\n",
              "<table border=\"1\" class=\"dataframe\">\n",
              "  <thead>\n",
              "    <tr style=\"text-align: right;\">\n",
              "      <th></th>\n",
              "      <th>Date</th>\n",
              "      <th>Open</th>\n",
              "      <th>High</th>\n",
              "      <th>Low</th>\n",
              "      <th>Close</th>\n",
              "      <th>Adj Close</th>\n",
              "      <th>Volume</th>\n",
              "    </tr>\n",
              "  </thead>\n",
              "  <tbody>\n",
              "    <tr>\n",
              "      <th>1276</th>\n",
              "      <td>2022-03-24</td>\n",
              "      <td>2785.449951</td>\n",
              "      <td>2827.929932</td>\n",
              "      <td>2760.788086</td>\n",
              "      <td>2826.239990</td>\n",
              "      <td>2826.239990</td>\n",
              "      <td>1027200</td>\n",
              "    </tr>\n",
              "    <tr>\n",
              "      <th>1277</th>\n",
              "      <td>2022-03-25</td>\n",
              "      <td>2835.080078</td>\n",
              "      <td>2839.189941</td>\n",
              "      <td>2793.989990</td>\n",
              "      <td>2830.429932</td>\n",
              "      <td>2830.429932</td>\n",
              "      <td>963500</td>\n",
              "    </tr>\n",
              "    <tr>\n",
              "      <th>1278</th>\n",
              "      <td>2022-03-28</td>\n",
              "      <td>2813.689941</td>\n",
              "      <td>2839.530029</td>\n",
              "      <td>2796.562988</td>\n",
              "      <td>2839.000000</td>\n",
              "      <td>2839.000000</td>\n",
              "      <td>1188700</td>\n",
              "    </tr>\n",
              "    <tr>\n",
              "      <th>1279</th>\n",
              "      <td>2022-03-29</td>\n",
              "      <td>2863.209961</td>\n",
              "      <td>2883.250000</td>\n",
              "      <td>2849.679932</td>\n",
              "      <td>2865.000000</td>\n",
              "      <td>2865.000000</td>\n",
              "      <td>1433900</td>\n",
              "    </tr>\n",
              "    <tr>\n",
              "      <th>1280</th>\n",
              "      <td>2022-03-30</td>\n",
              "      <td>2857.399902</td>\n",
              "      <td>2869.610107</td>\n",
              "      <td>2843.360107</td>\n",
              "      <td>2852.889893</td>\n",
              "      <td>2852.889893</td>\n",
              "      <td>1052300</td>\n",
              "    </tr>\n",
              "  </tbody>\n",
              "</table>\n",
              "</div>\n",
              "      <button class=\"colab-df-convert\" onclick=\"convertToInteractive('df-1ed0ddbc-6f81-416d-88b3-66afd53819e2')\"\n",
              "              title=\"Convert this dataframe to an interactive table.\"\n",
              "              style=\"display:none;\">\n",
              "        \n",
              "  <svg xmlns=\"http://www.w3.org/2000/svg\" height=\"24px\"viewBox=\"0 0 24 24\"\n",
              "       width=\"24px\">\n",
              "    <path d=\"M0 0h24v24H0V0z\" fill=\"none\"/>\n",
              "    <path d=\"M18.56 5.44l.94 2.06.94-2.06 2.06-.94-2.06-.94-.94-2.06-.94 2.06-2.06.94zm-11 1L8.5 8.5l.94-2.06 2.06-.94-2.06-.94L8.5 2.5l-.94 2.06-2.06.94zm10 10l.94 2.06.94-2.06 2.06-.94-2.06-.94-.94-2.06-.94 2.06-2.06.94z\"/><path d=\"M17.41 7.96l-1.37-1.37c-.4-.4-.92-.59-1.43-.59-.52 0-1.04.2-1.43.59L10.3 9.45l-7.72 7.72c-.78.78-.78 2.05 0 2.83L4 21.41c.39.39.9.59 1.41.59.51 0 1.02-.2 1.41-.59l7.78-7.78 2.81-2.81c.8-.78.8-2.07 0-2.86zM5.41 20L4 18.59l7.72-7.72 1.47 1.35L5.41 20z\"/>\n",
              "  </svg>\n",
              "      </button>\n",
              "      \n",
              "  <style>\n",
              "    .colab-df-container {\n",
              "      display:flex;\n",
              "      flex-wrap:wrap;\n",
              "      gap: 12px;\n",
              "    }\n",
              "\n",
              "    .colab-df-convert {\n",
              "      background-color: #E8F0FE;\n",
              "      border: none;\n",
              "      border-radius: 50%;\n",
              "      cursor: pointer;\n",
              "      display: none;\n",
              "      fill: #1967D2;\n",
              "      height: 32px;\n",
              "      padding: 0 0 0 0;\n",
              "      width: 32px;\n",
              "    }\n",
              "\n",
              "    .colab-df-convert:hover {\n",
              "      background-color: #E2EBFA;\n",
              "      box-shadow: 0px 1px 2px rgba(60, 64, 67, 0.3), 0px 1px 3px 1px rgba(60, 64, 67, 0.15);\n",
              "      fill: #174EA6;\n",
              "    }\n",
              "\n",
              "    [theme=dark] .colab-df-convert {\n",
              "      background-color: #3B4455;\n",
              "      fill: #D2E3FC;\n",
              "    }\n",
              "\n",
              "    [theme=dark] .colab-df-convert:hover {\n",
              "      background-color: #434B5C;\n",
              "      box-shadow: 0px 1px 3px 1px rgba(0, 0, 0, 0.15);\n",
              "      filter: drop-shadow(0px 1px 2px rgba(0, 0, 0, 0.3));\n",
              "      fill: #FFFFFF;\n",
              "    }\n",
              "  </style>\n",
              "\n",
              "      <script>\n",
              "        const buttonEl =\n",
              "          document.querySelector('#df-1ed0ddbc-6f81-416d-88b3-66afd53819e2 button.colab-df-convert');\n",
              "        buttonEl.style.display =\n",
              "          google.colab.kernel.accessAllowed ? 'block' : 'none';\n",
              "\n",
              "        async function convertToInteractive(key) {\n",
              "          const element = document.querySelector('#df-1ed0ddbc-6f81-416d-88b3-66afd53819e2');\n",
              "          const dataTable =\n",
              "            await google.colab.kernel.invokeFunction('convertToInteractive',\n",
              "                                                     [key], {});\n",
              "          if (!dataTable) return;\n",
              "\n",
              "          const docLinkHtml = 'Like what you see? Visit the ' +\n",
              "            '<a target=\"_blank\" href=https://colab.research.google.com/notebooks/data_table.ipynb>data table notebook</a>'\n",
              "            + ' to learn more about interactive tables.';\n",
              "          element.innerHTML = '';\n",
              "          dataTable['output_type'] = 'display_data';\n",
              "          await google.colab.output.renderOutput(dataTable, element);\n",
              "          const docLink = document.createElement('div');\n",
              "          docLink.innerHTML = docLinkHtml;\n",
              "          element.appendChild(docLink);\n",
              "        }\n",
              "      </script>\n",
              "    </div>\n",
              "  </div>\n",
              "  "
            ]
          },
          "metadata": {},
          "execution_count": 8
        }
      ]
    },
    {
      "cell_type": "code",
      "source": [
        "training_data.info()"
      ],
      "metadata": {
        "colab": {
          "base_uri": "https://localhost:8080/"
        },
        "id": "OLOfyLd7-zdT",
        "outputId": "e9ec5d27-2ff3-483c-9053-d6de2feea4ac"
      },
      "execution_count": null,
      "outputs": [
        {
          "output_type": "stream",
          "name": "stdout",
          "text": [
            "<class 'pandas.core.frame.DataFrame'>\n",
            "RangeIndex: 1281 entries, 0 to 1280\n",
            "Data columns (total 7 columns):\n",
            " #   Column     Non-Null Count  Dtype         \n",
            "---  ------     --------------  -----         \n",
            " 0   Date       1281 non-null   datetime64[ns]\n",
            " 1   Open       1281 non-null   float64       \n",
            " 2   High       1281 non-null   float64       \n",
            " 3   Low        1281 non-null   float64       \n",
            " 4   Close      1281 non-null   float64       \n",
            " 5   Adj Close  1281 non-null   float64       \n",
            " 6   Volume     1281 non-null   int64         \n",
            "dtypes: datetime64[ns](1), float64(5), int64(1)\n",
            "memory usage: 70.2 KB\n"
          ]
        }
      ]
    },
    {
      "cell_type": "code",
      "metadata": {
        "id": "bCNeTBT-iO6L"
      },
      "source": [
        "training_set = training_data.iloc[:, 1:2].values"
      ],
      "execution_count": null,
      "outputs": []
    },
    {
      "cell_type": "code",
      "metadata": {
        "id": "UlhJiPfNjK4y",
        "colab": {
          "base_uri": "https://localhost:8080/"
        },
        "outputId": "a4239735-cdc4-41b4-bb53-2c0c43e07971"
      },
      "source": [
        "training_set.shape, training_data.shape"
      ],
      "execution_count": null,
      "outputs": [
        {
          "output_type": "execute_result",
          "data": {
            "text/plain": [
              "((1281, 1), (1281, 7))"
            ]
          },
          "metadata": {},
          "execution_count": 12
        }
      ]
    },
    {
      "cell_type": "code",
      "metadata": {
        "id": "IGPQIJShjfeT"
      },
      "source": [
        "# feature scaling\n",
        "from sklearn.preprocessing import MinMaxScaler\n",
        "sc = MinMaxScaler(feature_range=(0,1))\n",
        "training_set_scaled = sc.fit_transform(training_set)"
      ],
      "execution_count": null,
      "outputs": []
    },
    {
      "cell_type": "code",
      "metadata": {
        "id": "S04mqrFElMiD",
        "colab": {
          "base_uri": "https://localhost:8080/"
        },
        "outputId": "4f2ececb-32aa-4e5c-942a-6cd2a996e16e"
      },
      "source": [
        "training_set_scaled"
      ],
      "execution_count": null,
      "outputs": [
        {
          "output_type": "execute_result",
          "data": {
            "text/plain": [
              "array([[0.0098192 ],\n",
              "       [0.01206103],\n",
              "       [0.01058592],\n",
              "       ...,\n",
              "       [0.89975426],\n",
              "       [0.92195736],\n",
              "       [0.91935233]])"
            ]
          },
          "metadata": {},
          "execution_count": 15
        }
      ]
    },
    {
      "cell_type": "code",
      "metadata": {
        "id": "5F8q5hShy3qj"
      },
      "source": [
        "# Creating a data structure with 60 timesteps and 1 output\n",
        "x_train = []\n",
        "y_train = []\n",
        "\n",
        "for i in range(90, 1281):\n",
        "  x_train.append(training_set_scaled[i-90:i, 0])\n",
        "  y_train.append(training_set_scaled[i, 0])\n",
        "\n",
        "# converting x_train and y_train into numpy array\n",
        "x_train, y_train = np.array(x_train), np.array(y_train)"
      ],
      "execution_count": null,
      "outputs": []
    },
    {
      "cell_type": "code",
      "source": [
        "x_train"
      ],
      "metadata": {
        "colab": {
          "base_uri": "https://localhost:8080/"
        },
        "id": "9OKywjws_D8-",
        "outputId": "b580e157-35c2-48f0-8ef4-8636a354ca2b"
      },
      "execution_count": null,
      "outputs": [
        {
          "output_type": "execute_result",
          "data": {
            "text/plain": [
              "array([[0.0098192 , 0.01206103, 0.01058592, ..., 0.04250959, 0.04356773,\n",
              "        0.04568849],\n",
              "       [0.01206103, 0.01058592, 0.00896732, ..., 0.04356773, 0.04568849,\n",
              "        0.05148141],\n",
              "       [0.01058592, 0.00896732, 0.00916909, ..., 0.04568849, 0.05148141,\n",
              "        0.05496519],\n",
              "       ...,\n",
              "       [0.97585095, 0.97637561, 0.97563126, ..., 0.88589081, 0.8870924 ,\n",
              "        0.90934487],\n",
              "       [0.97637561, 0.97563126, 0.99225671, ..., 0.8870924 , 0.90934487,\n",
              "        0.89975426],\n",
              "       [0.97563126, 0.99225671, 0.98456049, ..., 0.90934487, 0.89975426,\n",
              "        0.92195736]])"
            ]
          },
          "metadata": {},
          "execution_count": 17
        }
      ]
    },
    {
      "cell_type": "code",
      "source": [
        "y_train"
      ],
      "metadata": {
        "colab": {
          "base_uri": "https://localhost:8080/"
        },
        "id": "bi4R3XPS_4ZI",
        "outputId": "0e7751a5-ffd4-4dbd-87c1-eb11aaa915ec"
      },
      "execution_count": null,
      "outputs": [
        {
          "output_type": "execute_result",
          "data": {
            "text/plain": [
              "array([0.05148141, 0.05496519, 0.05906326, ..., 0.89975426, 0.92195736,\n",
              "       0.91935233])"
            ]
          },
          "metadata": {},
          "execution_count": 18
        }
      ]
    },
    {
      "cell_type": "code",
      "source": [
        "x_train.shape"
      ],
      "metadata": {
        "colab": {
          "base_uri": "https://localhost:8080/"
        },
        "id": "Sn0dTyD2_-8D",
        "outputId": "240fd5e1-6b81-452a-d354-aa112dadb719"
      },
      "execution_count": null,
      "outputs": [
        {
          "output_type": "execute_result",
          "data": {
            "text/plain": [
              "(1191, 90)"
            ]
          },
          "metadata": {},
          "execution_count": 19
        }
      ]
    },
    {
      "cell_type": "code",
      "metadata": {
        "id": "A5ECf-dV3108"
      },
      "source": [
        "# reshaping dataset\n",
        "x_train = x_train.reshape(1191, 90, 1)"
      ],
      "execution_count": null,
      "outputs": []
    },
    {
      "cell_type": "code",
      "metadata": {
        "id": "F8b4mvua4VF1",
        "colab": {
          "base_uri": "https://localhost:8080/"
        },
        "outputId": "6c2dc760-a195-45e8-95ae-e6014dc4577c"
      },
      "source": [
        "x_train.shape"
      ],
      "execution_count": null,
      "outputs": [
        {
          "output_type": "execute_result",
          "data": {
            "text/plain": [
              "(1191, 90, 1)"
            ]
          },
          "metadata": {},
          "execution_count": 29
        }
      ]
    },
    {
      "cell_type": "markdown",
      "source": [
        "Building LSTM"
      ],
      "metadata": {
        "id": "SGpli056A-Pu"
      }
    },
    {
      "cell_type": "code",
      "metadata": {
        "id": "4Nnz5Fqn6iBE"
      },
      "source": [
        "# define an object (inilitizing RNN)\n",
        "model = tf.keras.models.Sequential()"
      ],
      "execution_count": null,
      "outputs": []
    },
    {
      "cell_type": "code",
      "metadata": {
        "id": "Btzw1QaB7uG0"
      },
      "source": [
        "# first LSTM layer\n",
        "model.add(tf.keras.layers.LSTM(units=90, activation='relu', return_sequences=True, input_shape=(90,1)))\n",
        "# dropout layer\n",
        "model.add(tf.keras.layers.Dropout(0.2))\n",
        "\n",
        "# second LSTM layer\n",
        "model.add(tf.keras.layers.LSTM(units=90, activation='relu', return_sequences=True))\n",
        "# dropout layer\n",
        "model.add(tf.keras.layers.Dropout(0.2))\n",
        "\n",
        "# third LSTM layer\n",
        "model.add(tf.keras.layers.LSTM(units=110, activation='relu', return_sequences=True))\n",
        "# dropout layer\n",
        "model.add(tf.keras.layers.Dropout(0.2))\n",
        "\n",
        "# fourth LSTM layer\n",
        "model.add(tf.keras.layers.LSTM(units=130, activation='relu'))\n",
        "# dropout layer\n",
        "model.add(tf.keras.layers.Dropout(0.2))"
      ],
      "execution_count": null,
      "outputs": []
    },
    {
      "cell_type": "code",
      "metadata": {
        "id": "ZGWT2gt--p-W"
      },
      "source": [
        "# output layer\n",
        "model.add(tf.keras.layers.Dense(units=1))"
      ],
      "execution_count": null,
      "outputs": []
    },
    {
      "cell_type": "code",
      "source": [
        "model.summary()"
      ],
      "metadata": {
        "colab": {
          "base_uri": "https://localhost:8080/"
        },
        "id": "kMsfsZqQADJV",
        "outputId": "0050e762-646e-440f-819d-08bff0fa44f8"
      },
      "execution_count": null,
      "outputs": [
        {
          "output_type": "stream",
          "name": "stdout",
          "text": [
            "Model: \"sequential_2\"\n",
            "_________________________________________________________________\n",
            " Layer (type)                Output Shape              Param #   \n",
            "=================================================================\n",
            " lstm_5 (LSTM)               (None, 90, 90)            33120     \n",
            "                                                                 \n",
            " dropout_4 (Dropout)         (None, 90, 90)            0         \n",
            "                                                                 \n",
            " lstm_6 (LSTM)               (None, 90, 90)            65160     \n",
            "                                                                 \n",
            " dropout_5 (Dropout)         (None, 90, 90)            0         \n",
            "                                                                 \n",
            " lstm_7 (LSTM)               (None, 90, 110)           88440     \n",
            "                                                                 \n",
            " dropout_6 (Dropout)         (None, 90, 110)           0         \n",
            "                                                                 \n",
            " lstm_8 (LSTM)               (None, 130)               125320    \n",
            "                                                                 \n",
            " dropout_7 (Dropout)         (None, 130)               0         \n",
            "                                                                 \n",
            " dense_1 (Dense)             (None, 1)                 131       \n",
            "                                                                 \n",
            "=================================================================\n",
            "Total params: 312,171\n",
            "Trainable params: 312,171\n",
            "Non-trainable params: 0\n",
            "_________________________________________________________________\n"
          ]
        }
      ]
    },
    {
      "cell_type": "code",
      "metadata": {
        "id": "xcpXoLJLAGFa"
      },
      "source": [
        "# compile the model\n",
        "model.compile(optimizer='adam', loss='mean_squared_error')"
      ],
      "execution_count": null,
      "outputs": []
    },
    {
      "cell_type": "markdown",
      "source": [
        "Training the model"
      ],
      "metadata": {
        "id": "16mvzaJRDOm2"
      }
    },
    {
      "cell_type": "code",
      "metadata": {
        "id": "bbiebFeYCqb-",
        "colab": {
          "base_uri": "https://localhost:8080/"
        },
        "outputId": "1a69c318-5fe7-4f4a-f83b-e88a598bfa5c"
      },
      "source": [
        "model.fit(x_train, y_train, batch_size=32, epochs=100)"
      ],
      "execution_count": null,
      "outputs": [
        {
          "output_type": "stream",
          "name": "stdout",
          "text": [
            "Epoch 1/100\n",
            "38/38 [==============================] - 17s 430ms/step - loss: 0.0014\n",
            "Epoch 2/100\n",
            "38/38 [==============================] - 15s 384ms/step - loss: 0.0015\n",
            "Epoch 3/100\n",
            "38/38 [==============================] - 15s 383ms/step - loss: 0.0017\n",
            "Epoch 4/100\n",
            "38/38 [==============================] - 15s 392ms/step - loss: 0.0026\n",
            "Epoch 5/100\n",
            "38/38 [==============================] - 15s 387ms/step - loss: 0.0018\n",
            "Epoch 6/100\n",
            "38/38 [==============================] - 15s 384ms/step - loss: 0.0021\n",
            "Epoch 7/100\n",
            "38/38 [==============================] - 15s 381ms/step - loss: 0.0018\n",
            "Epoch 8/100\n",
            "38/38 [==============================] - 17s 452ms/step - loss: 0.0020\n",
            "Epoch 9/100\n",
            "38/38 [==============================] - 15s 388ms/step - loss: 0.0015\n",
            "Epoch 10/100\n",
            "38/38 [==============================] - 15s 390ms/step - loss: 0.0017\n",
            "Epoch 11/100\n",
            "38/38 [==============================] - 15s 393ms/step - loss: 0.0014\n",
            "Epoch 12/100\n",
            "38/38 [==============================] - 15s 390ms/step - loss: 0.0013\n",
            "Epoch 13/100\n",
            "38/38 [==============================] - 15s 387ms/step - loss: 0.0015\n",
            "Epoch 14/100\n",
            "38/38 [==============================] - 15s 387ms/step - loss: 0.0013\n",
            "Epoch 15/100\n",
            "38/38 [==============================] - 16s 411ms/step - loss: 0.0013\n",
            "Epoch 16/100\n",
            "38/38 [==============================] - 15s 389ms/step - loss: 0.0014\n",
            "Epoch 17/100\n",
            "38/38 [==============================] - 15s 385ms/step - loss: 0.0014\n",
            "Epoch 18/100\n",
            "38/38 [==============================] - 15s 384ms/step - loss: 0.0018\n",
            "Epoch 19/100\n",
            "38/38 [==============================] - 15s 383ms/step - loss: 0.0018\n",
            "Epoch 20/100\n",
            "38/38 [==============================] - 15s 385ms/step - loss: 0.0016\n",
            "Epoch 21/100\n",
            "38/38 [==============================] - 15s 384ms/step - loss: 0.0014\n",
            "Epoch 22/100\n",
            "38/38 [==============================] - 15s 402ms/step - loss: 0.0015\n",
            "Epoch 23/100\n",
            "38/38 [==============================] - 15s 386ms/step - loss: 0.0015\n",
            "Epoch 24/100\n",
            "38/38 [==============================] - 15s 386ms/step - loss: 0.0014\n",
            "Epoch 25/100\n",
            "38/38 [==============================] - 15s 386ms/step - loss: 0.0014\n",
            "Epoch 26/100\n",
            "38/38 [==============================] - 15s 386ms/step - loss: 0.0013\n",
            "Epoch 27/100\n",
            "38/38 [==============================] - 15s 383ms/step - loss: 0.0012\n",
            "Epoch 28/100\n",
            "38/38 [==============================] - 15s 389ms/step - loss: 0.0014\n",
            "Epoch 29/100\n",
            "38/38 [==============================] - 15s 387ms/step - loss: 0.0015\n",
            "Epoch 30/100\n",
            "38/38 [==============================] - 15s 387ms/step - loss: 0.0016\n",
            "Epoch 31/100\n",
            "38/38 [==============================] - 15s 386ms/step - loss: 0.0014\n",
            "Epoch 32/100\n",
            "38/38 [==============================] - 15s 386ms/step - loss: 0.0015\n",
            "Epoch 33/100\n",
            "38/38 [==============================] - 15s 387ms/step - loss: 0.0014\n",
            "Epoch 34/100\n",
            "38/38 [==============================] - 15s 386ms/step - loss: 0.0012\n",
            "Epoch 35/100\n",
            "38/38 [==============================] - 15s 388ms/step - loss: 0.0014\n",
            "Epoch 36/100\n",
            "38/38 [==============================] - 15s 387ms/step - loss: 0.0013\n",
            "Epoch 37/100\n",
            "38/38 [==============================] - 15s 387ms/step - loss: 0.0018\n",
            "Epoch 38/100\n",
            "38/38 [==============================] - 15s 385ms/step - loss: 0.0016\n",
            "Epoch 39/100\n",
            "38/38 [==============================] - 15s 385ms/step - loss: 0.0014\n",
            "Epoch 40/100\n",
            "38/38 [==============================] - 15s 385ms/step - loss: 0.0014\n",
            "Epoch 41/100\n",
            "38/38 [==============================] - 15s 385ms/step - loss: 0.0014\n",
            "Epoch 42/100\n",
            "38/38 [==============================] - 15s 385ms/step - loss: 0.0015\n",
            "Epoch 43/100\n",
            "38/38 [==============================] - 15s 385ms/step - loss: 0.0013\n",
            "Epoch 44/100\n",
            "38/38 [==============================] - 15s 384ms/step - loss: 0.0014\n",
            "Epoch 45/100\n",
            "38/38 [==============================] - 15s 390ms/step - loss: 0.0011\n",
            "Epoch 46/100\n",
            "38/38 [==============================] - 15s 386ms/step - loss: 0.0012\n",
            "Epoch 47/100\n",
            "38/38 [==============================] - 15s 387ms/step - loss: 0.0014\n",
            "Epoch 48/100\n",
            "38/38 [==============================] - 15s 387ms/step - loss: 0.0012\n",
            "Epoch 49/100\n",
            "38/38 [==============================] - 15s 384ms/step - loss: 0.0014\n",
            "Epoch 50/100\n",
            "38/38 [==============================] - 15s 386ms/step - loss: 0.0012\n",
            "Epoch 51/100\n",
            "38/38 [==============================] - 15s 384ms/step - loss: 0.0013\n",
            "Epoch 52/100\n",
            "38/38 [==============================] - 15s 384ms/step - loss: 0.0014\n",
            "Epoch 53/100\n",
            "38/38 [==============================] - 15s 384ms/step - loss: 0.0013\n",
            "Epoch 54/100\n",
            "38/38 [==============================] - 15s 384ms/step - loss: 0.0014\n",
            "Epoch 55/100\n",
            "38/38 [==============================] - 15s 386ms/step - loss: 0.0014\n",
            "Epoch 56/100\n",
            "38/38 [==============================] - 15s 388ms/step - loss: 0.0013\n",
            "Epoch 57/100\n",
            "38/38 [==============================] - 15s 390ms/step - loss: 0.0012\n",
            "Epoch 58/100\n",
            "38/38 [==============================] - 15s 387ms/step - loss: 0.0012\n",
            "Epoch 59/100\n",
            "38/38 [==============================] - 15s 388ms/step - loss: 0.0010\n",
            "Epoch 60/100\n",
            "38/38 [==============================] - 15s 389ms/step - loss: 0.0012\n",
            "Epoch 61/100\n",
            "38/38 [==============================] - 15s 388ms/step - loss: 0.0014\n",
            "Epoch 62/100\n",
            "38/38 [==============================] - 15s 386ms/step - loss: 0.0014\n",
            "Epoch 63/100\n",
            "38/38 [==============================] - 15s 389ms/step - loss: 0.0012\n",
            "Epoch 64/100\n",
            "38/38 [==============================] - 15s 387ms/step - loss: 0.0012\n",
            "Epoch 65/100\n",
            "38/38 [==============================] - 15s 389ms/step - loss: 0.0011\n",
            "Epoch 66/100\n",
            "38/38 [==============================] - 15s 388ms/step - loss: 0.0012\n",
            "Epoch 67/100\n",
            "38/38 [==============================] - 15s 387ms/step - loss: 0.0012\n",
            "Epoch 68/100\n",
            "38/38 [==============================] - 15s 389ms/step - loss: 0.0011\n",
            "Epoch 69/100\n",
            "38/38 [==============================] - 15s 388ms/step - loss: 0.0012\n",
            "Epoch 70/100\n",
            "38/38 [==============================] - 15s 388ms/step - loss: 0.0013\n",
            "Epoch 71/100\n",
            "38/38 [==============================] - 15s 390ms/step - loss: 0.0012\n",
            "Epoch 72/100\n",
            "38/38 [==============================] - 15s 387ms/step - loss: 0.0013\n",
            "Epoch 73/100\n",
            "38/38 [==============================] - 15s 387ms/step - loss: 0.0013\n",
            "Epoch 74/100\n",
            "38/38 [==============================] - 15s 387ms/step - loss: 0.0014\n",
            "Epoch 75/100\n",
            "38/38 [==============================] - 15s 387ms/step - loss: 0.0011\n",
            "Epoch 76/100\n",
            "38/38 [==============================] - 15s 386ms/step - loss: 0.0012\n",
            "Epoch 77/100\n",
            "38/38 [==============================] - 15s 388ms/step - loss: 0.0012\n",
            "Epoch 78/100\n",
            "38/38 [==============================] - 15s 386ms/step - loss: 0.0012\n",
            "Epoch 79/100\n",
            "38/38 [==============================] - 15s 387ms/step - loss: 0.0012\n",
            "Epoch 80/100\n",
            "38/38 [==============================] - 15s 386ms/step - loss: 0.0010\n",
            "Epoch 81/100\n",
            "38/38 [==============================] - 15s 390ms/step - loss: 0.0012\n",
            "Epoch 82/100\n",
            "38/38 [==============================] - 15s 386ms/step - loss: 0.0010\n",
            "Epoch 83/100\n",
            "38/38 [==============================] - 15s 386ms/step - loss: 0.0012\n",
            "Epoch 84/100\n",
            "38/38 [==============================] - 15s 383ms/step - loss: 0.0010\n",
            "Epoch 85/100\n",
            "38/38 [==============================] - 15s 384ms/step - loss: 0.0013\n",
            "Epoch 86/100\n",
            "38/38 [==============================] - 15s 387ms/step - loss: 0.0012\n",
            "Epoch 87/100\n",
            "38/38 [==============================] - 15s 383ms/step - loss: 0.0012\n",
            "Epoch 88/100\n",
            "38/38 [==============================] - 15s 383ms/step - loss: 0.0012\n",
            "Epoch 89/100\n",
            "38/38 [==============================] - 15s 385ms/step - loss: 0.0013\n",
            "Epoch 90/100\n",
            "38/38 [==============================] - 15s 384ms/step - loss: 0.0012\n",
            "Epoch 91/100\n",
            "38/38 [==============================] - 15s 383ms/step - loss: 0.0011\n",
            "Epoch 92/100\n",
            "38/38 [==============================] - 15s 387ms/step - loss: 0.0011\n",
            "Epoch 93/100\n",
            "38/38 [==============================] - 15s 388ms/step - loss: 0.0010\n",
            "Epoch 94/100\n",
            "38/38 [==============================] - 15s 387ms/step - loss: 0.0012\n",
            "Epoch 95/100\n",
            "38/38 [==============================] - 15s 389ms/step - loss: 0.0013\n",
            "Epoch 96/100\n",
            "38/38 [==============================] - 15s 387ms/step - loss: 9.8860e-04\n",
            "Epoch 97/100\n",
            "38/38 [==============================] - 15s 391ms/step - loss: 0.0011\n",
            "Epoch 98/100\n",
            "38/38 [==============================] - 15s 388ms/step - loss: 0.0012\n",
            "Epoch 99/100\n",
            "38/38 [==============================] - 15s 387ms/step - loss: 0.0011\n",
            "Epoch 100/100\n",
            "38/38 [==============================] - 15s 383ms/step - loss: 0.0012\n"
          ]
        },
        {
          "output_type": "execute_result",
          "data": {
            "text/plain": [
              "<keras.callbacks.History at 0x7f69dfb5ca90>"
            ]
          },
          "metadata": {},
          "execution_count": 53
        }
      ]
    },
    {
      "cell_type": "markdown",
      "source": [
        "Making Predictions"
      ],
      "metadata": {
        "id": "9KHyu00DEgQG"
      }
    },
    {
      "cell_type": "code",
      "metadata": {
        "id": "jsvCdvmce6M9"
      },
      "source": [
        "# getting the real stock prices of month Nov 2019\n",
        "test_data = pd.read_excel('/content/drive/MyDrive/Google stock price/DLproj_testing.xlsx')"
      ],
      "execution_count": null,
      "outputs": []
    },
    {
      "cell_type": "code",
      "source": [
        "\n",
        "test_data.shape"
      ],
      "metadata": {
        "colab": {
          "base_uri": "https://localhost:8080/"
        },
        "id": "e7kxFH6NDJZp",
        "outputId": "974fee20-eff5-4028-cf5d-cf75e0f1b3c2"
      },
      "execution_count": null,
      "outputs": [
        {
          "output_type": "execute_result",
          "data": {
            "text/plain": [
              "(20, 7)"
            ]
          },
          "metadata": {},
          "execution_count": 55
        }
      ]
    },
    {
      "cell_type": "code",
      "source": [
        "test_data.info()"
      ],
      "metadata": {
        "colab": {
          "base_uri": "https://localhost:8080/"
        },
        "id": "qKWbLGJOU7ze",
        "outputId": "6cc89d6d-0921-402b-ea50-90b84badacc8"
      },
      "execution_count": null,
      "outputs": [
        {
          "output_type": "stream",
          "name": "stdout",
          "text": [
            "<class 'pandas.core.frame.DataFrame'>\n",
            "RangeIndex: 20 entries, 0 to 19\n",
            "Data columns (total 7 columns):\n",
            " #   Column     Non-Null Count  Dtype         \n",
            "---  ------     --------------  -----         \n",
            " 0   Date       20 non-null     datetime64[ns]\n",
            " 1   Open       20 non-null     float64       \n",
            " 2   High       20 non-null     float64       \n",
            " 3   Low        20 non-null     float64       \n",
            " 4   Close      20 non-null     float64       \n",
            " 5   Adj Close  20 non-null     float64       \n",
            " 6   Volume     20 non-null     int64         \n",
            "dtypes: datetime64[ns](1), float64(5), int64(1)\n",
            "memory usage: 1.2 KB\n"
          ]
        }
      ]
    },
    {
      "cell_type": "code",
      "metadata": {
        "id": "xj3SRrK2geDR"
      },
      "source": [
        "real_stock_price = test_data.iloc[:, 1:2].values"
      ],
      "execution_count": null,
      "outputs": []
    },
    {
      "cell_type": "code",
      "source": [
        "real_stock_price.shape"
      ],
      "metadata": {
        "colab": {
          "base_uri": "https://localhost:8080/"
        },
        "id": "ZfCE33WHVYiM",
        "outputId": "4a73ef7d-7c7e-493d-df4d-3f02b407ae1a"
      },
      "execution_count": null,
      "outputs": [
        {
          "output_type": "execute_result",
          "data": {
            "text/plain": [
              "(20, 1)"
            ]
          },
          "metadata": {},
          "execution_count": 58
        }
      ]
    },
    {
      "cell_type": "code",
      "metadata": {
        "id": "etY_VcOT2YyK"
      },
      "source": [
        "# Getting predicted stock prices of month Nov 2019\n",
        "\n",
        "# concatination\n",
        "dataset_total = pd.concat((training_data['Open'], test_data['Open']), axis = 0)\n",
        "\n",
        "# stock prices of previous 60 days for each day of Nov 2019\n",
        "inputs = dataset_total[len(dataset_total) - len(test_data) - 90:].values\n",
        "\n",
        "# reshape (convert into numpy array)\n",
        "inputs = inputs.reshape(-1,1)\n",
        "\n",
        "# feature scaling\n",
        "inputs = sc.transform(inputs)\n",
        "\n",
        "# creating a test set\n",
        "\n",
        "x_test = []\n",
        "for i in range(90, 110):\n",
        "  x_test.append(inputs[i-90:i, 0])\n",
        "\n",
        "# convert in numpy array\n",
        "x_test = np.array(x_test)\n",
        "\n",
        "# convert in 3D (required to process)\n",
        "x_test = np.reshape(x_test, (x_test.shape[0], x_test.shape[1], 1))\n",
        "\n",
        "# getting predicted stock prices\n",
        "predicted_stock_price = model.predict(x_test)\n",
        "predicted_stock_price = sc.inverse_transform(predicted_stock_price)"
      ],
      "execution_count": null,
      "outputs": []
    },
    {
      "cell_type": "code",
      "metadata": {
        "id": "r0d2yWye3Kje",
        "colab": {
          "base_uri": "https://localhost:8080/"
        },
        "outputId": "cee9d686-5451-4a34-d513-c219f2f864ad"
      },
      "source": [
        "print(predicted_stock_price[5]), print(real_stock_price[5])"
      ],
      "execution_count": null,
      "outputs": [
        {
          "output_type": "stream",
          "name": "stdout",
          "text": [
            "[2734.8596]\n",
            "[2725.]\n"
          ]
        },
        {
          "output_type": "execute_result",
          "data": {
            "text/plain": [
              "(None, None)"
            ]
          },
          "metadata": {},
          "execution_count": 60
        }
      ]
    },
    {
      "cell_type": "markdown",
      "source": [
        "Visualization"
      ],
      "metadata": {
        "id": "xcF30GxLaVh4"
      }
    },
    {
      "cell_type": "code",
      "metadata": {
        "id": "0ueqGteg5TkS",
        "colab": {
          "base_uri": "https://localhost:8080/",
          "height": 295
        },
        "outputId": "82475365-b9a7-4a2e-f151-d07397125c61"
      },
      "source": [
        "# Visualising the results\n",
        "plt.plot(real_stock_price, color='red', label='Real Google Stock Price')\n",
        "plt.plot(predicted_stock_price, color='blue', label='Predicted Google Stock Price')\n",
        "plt.title('Google Stock Price Prediction')\n",
        "plt.xlabel('Time')\n",
        "plt.ylabel('Google Stock Price')\n",
        "plt.legend()\n",
        "plt.show()"
      ],
      "execution_count": null,
      "outputs": [
        {
          "output_type": "display_data",
          "data": {
            "text/plain": [
              "<Figure size 432x288 with 1 Axes>"
            ],
            "image/png": "[encoded data removed]"
          },
          "metadata": {
            "needs_background": "light"
          }
        }
      ]
    },
    {
      "cell_type": "markdown",
      "source": [
        "Performance metrics"
      ],
      "metadata": {
        "id": "is8BDI-3aiuL"
      }
    },
    {
      "cell_type": "code",
      "execution_count": null,
      "metadata": {
        "id": "bUFyDrURkBEW"
      },
      "outputs": [],
      "source": [
        "from sklearn import metrics\n",
        "\n",
        "R2 =metrics.r2_score(real_stock_price,predicted_stock_price)\n",
        "MAE=metrics.mean_absolute_error(real_stock_price,predicted_stock_price)\n",
        "MSE=metrics.mean_squared_error(real_stock_price,predicted_stock_price)\n",
        "RMSE=np.sqrt(metrics.mean_squared_error(real_stock_price,predicted_stock_price))\n",
        "MAPE=np.mean(np.abs((real_stock_price-predicted_stock_price)/real_stock_price))*100"
      ]
    },
    {
      "cell_type": "code",
      "source": [
        "print(R2)"
      ],
      "metadata": {
        "colab": {
          "base_uri": "https://localhost:8080/"
        },
        "id": "IUBzH-XIZyHc",
        "outputId": "8c71ac7b-e28a-4d92-c800-3139281065f9"
      },
      "execution_count": null,
      "outputs": [
        {
          "output_type": "stream",
          "name": "stdout",
          "text": [
            "0.6056300695096348\n"
          ]
        }
      ]
    },
    {
      "cell_type": "code",
      "source": [
        "print(MAE)"
      ],
      "metadata": {
        "colab": {
          "base_uri": "https://localhost:8080/"
        },
        "id": "bCWoMW9Ra5q9",
        "outputId": "d14ac336-f54b-490c-ce9e-d013de893c16"
      },
      "execution_count": null,
      "outputs": [
        {
          "output_type": "stream",
          "name": "stdout",
          "text": [
            "83.02215573125002\n"
          ]
        }
      ]
    },
    {
      "cell_type": "code",
      "source": [
        "print(MSE)"
      ],
      "metadata": {
        "colab": {
          "base_uri": "https://localhost:8080/"
        },
        "id": "-J5Ar3c5a-Ut",
        "outputId": "8c522e1f-455b-4f29-fee3-ff5a0ea7180a"
      },
      "execution_count": null,
      "outputs": [
        {
          "output_type": "stream",
          "name": "stdout",
          "text": [
            "10603.164981040383\n"
          ]
        }
      ]
    },
    {
      "cell_type": "code",
      "source": [
        "print(RMSE)"
      ],
      "metadata": {
        "colab": {
          "base_uri": "https://localhost:8080/"
        },
        "id": "_ocXPq4ta-XZ",
        "outputId": "e7de1168-561d-408b-905a-8f3e5e3dbb10"
      },
      "execution_count": null,
      "outputs": [
        {
          "output_type": "stream",
          "name": "stdout",
          "text": [
            "102.97167076939357\n"
          ]
        }
      ]
    },
    {
      "cell_type": "code",
      "source": [
        "print(MAPE)"
      ],
      "metadata": {
        "colab": {
          "base_uri": "https://localhost:8080/"
        },
        "id": "53Q6iw-ebG27",
        "outputId": "fa786a4e-87d5-4710-e825-6aa12f70e307"
      },
      "execution_count": null,
      "outputs": [
        {
          "output_type": "stream",
          "name": "stdout",
          "text": [
            "3.3216287197759904\n"
          ]
        }
      ]
    }
  ]
}